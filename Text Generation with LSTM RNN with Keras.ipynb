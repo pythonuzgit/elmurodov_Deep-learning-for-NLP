{
 "cells": [
  {
   "cell_type": "code",
   "execution_count": null,
   "metadata": {},
   "outputs": [],
   "source": []
  },
  {
   "cell_type": "code",
   "execution_count": null,
   "metadata": {},
   "outputs": [],
   "source": [
    "Generate text "
   ]
  },
  {
   "cell_type": "code",
   "execution_count": null,
   "metadata": {},
   "outputs": [],
   "source": []
  },
  {
   "cell_type": "code",
   "execution_count": 1,
   "metadata": {},
   "outputs": [
    {
     "name": "stderr",
     "output_type": "stream",
     "text": [
      "Using TensorFlow backend.\n"
     ]
    }
   ],
   "source": [
    "import numpy as np\n",
    "import sys\n",
    "import random\n",
    "from keras.layers import Dense\n",
    "from keras.models import Sequential\n",
    "from keras.layers import Dropout\n",
    "from keras.layers import LSTM\n",
    "from keras.utils import np_utils\n",
    "from keras.callbacks import ModelCheckpoint"
   ]
  },
  {
   "cell_type": "markdown",
   "metadata": {},
   "source": [
    "load text and convert to lowercase"
   ]
  },
  {
   "cell_type": "code",
   "execution_count": 2,
   "metadata": {},
   "outputs": [],
   "source": [
    "filename = \"masteren_engl.txt\"\n",
    "raw_text = open(filename, 'r', encoding = 'utf-8').read()\n",
    "raw_text = raw_text.lower()"
   ]
  },
  {
   "cell_type": "markdown",
   "metadata": {},
   "source": [
    "Create mapping of unique chars to integers, and a reverse mapping"
   ]
  },
  {
   "cell_type": "code",
   "execution_count": 3,
   "metadata": {},
   "outputs": [],
   "source": [
    "chars = sorted(list(set(raw_text)))\n",
    "char_to_int = dict((c, i) for i, c in enumerate(chars))"
   ]
  },
  {
   "cell_type": "markdown",
   "metadata": {},
   "source": [
    "We can summarize the dataset"
   ]
  },
  {
   "cell_type": "code",
   "execution_count": 4,
   "metadata": {},
   "outputs": [
    {
     "name": "stdout",
     "output_type": "stream",
     "text": [
      "Total characters: 14671\n",
      "Total vocab: 59\n"
     ]
    }
   ],
   "source": [
    "n_chars = len(raw_text)\n",
    "n_vocab = len(chars)\n",
    "\n",
    "print(\"Total characters:\", n_chars)\n",
    "print(\"Total vocab:\", n_vocab)"
   ]
  },
  {
   "cell_type": "markdown",
   "metadata": {},
   "source": [
    "prepare the dataset of input to output pairs encoded, as integers\n"
   ]
  },
  {
   "cell_type": "code",
   "execution_count": 5,
   "metadata": {},
   "outputs": [
    {
     "name": "stdout",
     "output_type": "stream",
     "text": [
      "Total Patterns: 14571\n"
     ]
    }
   ],
   "source": [
    "\n",
    "seq_length = 100\n",
    "dataX = []\n",
    "dataY = []\n",
    "\n",
    "for i in range(0, n_chars - seq_length, 1):\n",
    "    seq_in = raw_text[i : i +seq_length]\n",
    "    seq_out = raw_text[i + seq_length]\n",
    "    \n",
    "    dataX.append([char_to_int[char] for char in seq_in])\n",
    "    dataY.append(char_to_int[seq_out])\n",
    "    \n",
    "    \n",
    "    \n",
    "n_patterns = len(dataX)\n",
    "print(\"Total Patterns:\", n_patterns)"
   ]
  },
  {
   "cell_type": "markdown",
   "metadata": {},
   "source": [
    "We can implement these steps as below"
   ]
  },
  {
   "cell_type": "code",
   "execution_count": 6,
   "metadata": {},
   "outputs": [],
   "source": [
    "#reshape X to be [samples, time steps, features]\n",
    "X = np.reshape(dataX, (n_patterns, seq_length, 1))\n",
    "#normalize\n",
    "X = X / float(n_vocab)\n",
    "#one hot encode the output variable\n",
    "y = np_utils.to_categorical(dataY)"
   ]
  },
  {
   "cell_type": "markdown",
   "metadata": {},
   "source": [
    "Define the LSTM model"
   ]
  },
  {
   "cell_type": "code",
   "execution_count": 7,
   "metadata": {},
   "outputs": [],
   "source": [
    "model = Sequential()\n",
    "model.add(LSTM(256, input_shape = (X.shape[1], X.shape[2]), return_sequences = True))\n",
    "model.add(Dropout(0.2))\n",
    "model.add(LSTM(256))\n",
    "model.add(Dropout(0.2))\n",
    "model.add(Dense(y.shape[1], activation = 'softmax'))\n",
    "model.compile(loss = 'categorical_crossentropy', optimizer = 'adam')"
   ]
  },
  {
   "cell_type": "markdown",
   "metadata": {},
   "source": [
    "load the network weights"
   ]
  },
  {
   "cell_type": "code",
   "execution_count": 8,
   "metadata": {},
   "outputs": [],
   "source": [
    "filepath=\"weights-improvement-{epoch:02d}-{loss:.4f}-bigger.hdf5\""
   ]
  },
  {
   "cell_type": "code",
   "execution_count": 9,
   "metadata": {},
   "outputs": [],
   "source": [
    "checkpoint = ModelCheckpoint(filepath, monitor = 'loss', verbose = 1, save_best_only = True, mode = 'min')\n",
    "\n",
    "callbacks_list = [checkpoint]"
   ]
  },
  {
   "cell_type": "markdown",
   "metadata": {},
   "source": [
    "Fit the model"
   ]
  },
  {
   "cell_type": "code",
   "execution_count": 10,
   "metadata": {},
   "outputs": [
    {
     "name": "stdout",
     "output_type": "stream",
     "text": [
      "Epoch 1/10\n",
      "14571/14571 [==============================] - 431s 30ms/step - loss: 3.0710\n",
      "\n",
      "Epoch 00001: loss improved from inf to 3.07095, saving model to weights-improvement-01-3.0710-bigger.hdf5\n",
      "Epoch 2/10\n",
      "14571/14571 [==============================] - 428s 29ms/step - loss: 3.0088\n",
      "\n",
      "Epoch 00002: loss improved from 3.07095 to 3.00881, saving model to weights-improvement-02-3.0088-bigger.hdf5\n",
      "Epoch 3/10\n",
      "14571/14571 [==============================] - 442s 30ms/step - loss: 2.9548\n",
      "\n",
      "Epoch 00003: loss improved from 3.00881 to 2.95479, saving model to weights-improvement-03-2.9548-bigger.hdf5\n",
      "Epoch 4/10\n",
      "14571/14571 [==============================] - 539s 37ms/step - loss: 2.8330\n",
      "\n",
      "Epoch 00004: loss improved from 2.95479 to 2.83304, saving model to weights-improvement-04-2.8330-bigger.hdf5\n",
      "Epoch 5/10\n",
      "14571/14571 [==============================] - 547s 38ms/step - loss: 2.7337\n",
      "\n",
      "Epoch 00005: loss improved from 2.83304 to 2.73370, saving model to weights-improvement-05-2.7337-bigger.hdf5\n",
      "Epoch 6/10\n",
      "14571/14571 [==============================] - 505s 35ms/step - loss: 2.6539\n",
      "\n",
      "Epoch 00006: loss improved from 2.73370 to 2.65386, saving model to weights-improvement-06-2.6539-bigger.hdf5\n",
      "Epoch 7/10\n",
      "14571/14571 [==============================] - 540s 37ms/step - loss: 2.5942\n",
      "\n",
      "Epoch 00007: loss improved from 2.65386 to 2.59415, saving model to weights-improvement-07-2.5942-bigger.hdf5\n",
      "Epoch 8/10\n",
      "14571/14571 [==============================] - 524s 36ms/step - loss: 2.5509\n",
      "\n",
      "Epoch 00008: loss improved from 2.59415 to 2.55087, saving model to weights-improvement-08-2.5509-bigger.hdf5\n",
      "Epoch 9/10\n",
      "14571/14571 [==============================] - 560s 38ms/step - loss: 2.5034\n",
      "\n",
      "Epoch 00009: loss improved from 2.55087 to 2.50337, saving model to weights-improvement-09-2.5034-bigger.hdf5\n",
      "Epoch 10/10\n",
      "14571/14571 [==============================] - 371s 25ms/step - loss: 2.4635\n",
      "\n",
      "Epoch 00010: loss improved from 2.50337 to 2.46353, saving model to weights-improvement-10-2.4635-bigger.hdf5\n"
     ]
    },
    {
     "data": {
      "text/plain": [
       "<keras.callbacks.callbacks.History at 0x7f48345e4e10>"
      ]
     },
     "execution_count": 10,
     "metadata": {},
     "output_type": "execute_result"
    }
   ],
   "source": [
    "model.fit(X, y, epochs = 10, batch_size = 64, callbacks = callbacks_list)"
   ]
  },
  {
   "cell_type": "code",
   "execution_count": 11,
   "metadata": {},
   "outputs": [],
   "source": [
    "filename = \"weights-improvement-10-2.4635-bigger.hdf5\"\n",
    "\n",
    "model.load_weights(filename)\n",
    "model.compile(loss = 'categorical_crossentropy', optimizer = 'adam')"
   ]
  },
  {
   "cell_type": "markdown",
   "metadata": {},
   "source": [
    "we will create a reverse mapping that we can use to convert the integers back to characters so that we can understand the prediction"
   ]
  },
  {
   "cell_type": "code",
   "execution_count": 12,
   "metadata": {},
   "outputs": [],
   "source": [
    "int_to_char = dict((i, c) for i, c in enumerate(chars))"
   ]
  },
  {
   "cell_type": "code",
   "execution_count": 21,
   "metadata": {},
   "outputs": [
    {
     "name": "stdout",
     "output_type": "stream",
     "text": [
      "Seed:\n",
      "\" raising his arms for the\n",
      "next blow.-- it's easy to say... those damned stones, there's too much of\n",
      "t \"\n",
      "he sooe th\n",
      "Done\n"
     ]
    }
   ],
   "source": [
    "# pick a random seed\n",
    "import numpy as np\n",
    "import random\n",
    "import sys\n",
    "start = np.random.randint(0, len(dataX) - 1)\n",
    "pattern = dataX[start]\n",
    "print(\"Seed:\")\n",
    "\n",
    "print( \"\\\"\", ''.join([int_to_char[value] for value in pattern]), \"\\\"\")\n",
    "\n",
    "# generate characters\n",
    "\n",
    "for i in range(10):\n",
    "    x = np.reshape(pattern, (1, len(pattern), 1))\n",
    "    \n",
    "    x = x/float(n_vocab)\n",
    "    \n",
    "    prediction = model.predict(x, verbose = 0)\n",
    "    index = np.argmax(prediction)\n",
    "    result = int_to_char[index]\n",
    "    seq_in = [int_to_char[value] for value in pattern]\n",
    "    sys.stdout.write(result)\n",
    "    pattern.append(index)\n",
    "    pattern = pattern[1 : len(pattern)]\n",
    "    \n",
    "    \n",
    "print(\"\\nDone\")    "
   ]
  },
  {
   "cell_type": "code",
   "execution_count": null,
   "metadata": {},
   "outputs": [],
   "source": []
  }
 ],
 "metadata": {
  "kernelspec": {
   "display_name": "Python 3",
   "language": "python",
   "name": "python3"
  },
  "language_info": {
   "codemirror_mode": {
    "name": "ipython",
    "version": 3
   },
   "file_extension": ".py",
   "mimetype": "text/x-python",
   "name": "python",
   "nbconvert_exporter": "python",
   "pygments_lexer": "ipython3",
   "version": "3.7.6"
  }
 },
 "nbformat": 4,
 "nbformat_minor": 4
}
