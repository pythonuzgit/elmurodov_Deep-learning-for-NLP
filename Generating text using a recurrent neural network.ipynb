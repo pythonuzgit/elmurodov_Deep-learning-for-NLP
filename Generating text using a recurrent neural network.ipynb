{
 "cells": [
  {
   "cell_type": "markdown",
   "metadata": {},
   "source": [
    "Text Generation with Python "
   ]
  },
  {
   "cell_type": "code",
   "execution_count": null,
   "metadata": {},
   "outputs": [],
   "source": [
    "The Natural Language Toolkit"
   ]
  },
  {
   "cell_type": "code",
   "execution_count": 3,
   "metadata": {},
   "outputs": [],
   "source": [
    "import numpy as np\n",
    "import random\n",
    "import sys"
   ]
  },
  {
   "cell_type": "markdown",
   "metadata": {},
   "source": [
    "Use text file, we will be training the network on the text"
   ]
  },
  {
   "cell_type": "code",
   "execution_count": 4,
   "metadata": {},
   "outputs": [
    {
     "name": "stdout",
     "output_type": "stream",
     "text": [
      "text length: 434031\n"
     ]
    }
   ],
   "source": [
    "with open('epdf.pub_alexandre-dumas-the-black-tulip.txt', 'r') as file:\n",
    "    text = file.read().lower()\n",
    "    \n",
    "print('text length:', len(text))    "
   ]
  },
  {
   "cell_type": "code",
   "execution_count": 5,
   "metadata": {},
   "outputs": [
    {
     "name": "stdout",
     "output_type": "stream",
     "text": [
      "total chars: 49\n"
     ]
    }
   ],
   "source": [
    "#getting all unique chars\n",
    "chars = sorted(list(set(text))) #getting all unique chars\n",
    "print('total chars:', len(chars))\n",
    "\n",
    "#use the enumerate function\n",
    "\n",
    "char_indices = dict((c, i) for i, c in enumerate(chars))\n",
    "indices_char = dict((i, c) for i, c in enumerate(chars))"
   ]
  },
  {
   "cell_type": "markdown",
   "metadata": {},
   "source": [
    "To get valuable data, which can use to train our model we will split our data up into subsequences with a length of 49 charcters. Then we will transform our data to an boolean array."
   ]
  },
  {
   "cell_type": "markdown",
   "metadata": {},
   "source": [
    "Create training examples and targets"
   ]
  },
  {
   "cell_type": "code",
   "execution_count": 6,
   "metadata": {},
   "outputs": [],
   "source": [
    "maxlen = 49\n",
    "step = 3\n",
    "sentences = []\n",
    "next_chars = []\n",
    "\n",
    "for i in range(0, len(text) - maxlen, step):\n",
    "    sentences.append(text[i: i + maxlen])\n",
    "    next_chars.append(text[i + maxlen])\n",
    "    \n",
    "    \n",
    "    \n",
    "x = np.zeros((len(sentences), maxlen, len(chars)), dtype = np.bool)\n",
    "y = np.zeros((len(sentences), len(chars)), dtype = np.bool)\n",
    "\n",
    "for i, sentence in enumerate(sentences):\n",
    "    for t, char in enumerate(sentence):\n",
    "        x[i, t, char_indices[char]] = 1\n",
    "        \n",
    "        \n",
    "    y[i, char_indices[next_chars[i]]] = 1\n",
    "    "
   ]
  },
  {
   "cell_type": "markdown",
   "metadata": {},
   "source": [
    "Recurrent Neural Network Model"
   ]
  },
  {
   "cell_type": "markdown",
   "metadata": {},
   "source": [
    "We will create a simple RNN with the following structure"
   ]
  },
  {
   "cell_type": "markdown",
   "metadata": {},
   "source": [
    "We will use the RMSprop optimizer and the categorical crossentropy loss function"
   ]
  },
  {
   "cell_type": "code",
   "execution_count": 7,
   "metadata": {},
   "outputs": [
    {
     "name": "stderr",
     "output_type": "stream",
     "text": [
      "Using TensorFlow backend.\n"
     ]
    }
   ],
   "source": [
    "from keras.models import Sequential\n",
    "from keras.layers import Dense, Activation\n",
    "from keras.layers import LSTM\n",
    "from keras.optimizers import RMSprop"
   ]
  },
  {
   "cell_type": "code",
   "execution_count": 8,
   "metadata": {},
   "outputs": [],
   "source": [
    "model = Sequential()\n",
    "model.add(LSTM(128, input_shape = (maxlen, len(chars))))\n",
    "model.add(Dense(len(chars)))\n",
    "model.add(Activation('softmax'))\n",
    "\n",
    "optimizer = RMSprop(lr = 0.01)\n",
    "model.compile(loss = 'categorical_crossentropy', optimizer = optimizer)"
   ]
  },
  {
   "cell_type": "markdown",
   "metadata": {},
   "source": [
    "Built the model"
   ]
  },
  {
   "cell_type": "code",
   "execution_count": 19,
   "metadata": {},
   "outputs": [],
   "source": [
    "def sample(preds, temperature = 1.0):\n",
    "    #helper function to sample an index from a probably array\n",
    "    preds = np.array(preds).astype('float64')\n",
    "    preds = np.log(preds) / temperature\n",
    "    exp_preds = np.exp(preds)\n",
    "    preds = exp_preds / np.sum(exp_preds)\n",
    "    probas = np.random.multinomial(1, preds, 1)\n",
    "    return np.argmax(probas)\n",
    "\n",
    "\n",
    "def on_epoch_end(epoch, logs):\n",
    "    #Function invoked at end of each epoch. Prints generated text.\n",
    "    \n",
    "    print()\n",
    "    print('----Generating text after Epoch: % d' % epoch)\n",
    "    \n",
    "    start_index = random.randint(0, len(text) -maxlen - 1)\n",
    "    \n",
    "    for diversity in [0.2, 0.5, 1.0, 1.2]:\n",
    "        print('----diversity:', diversity)\n",
    "        \n",
    "        generated = ''\n",
    "        sentence = text[start_index: start_index + maxlen]\n",
    "        generated += sentence\n",
    "        print('-----Generating with seed: \"' + sentence + '\"')\n",
    "        \n",
    "        sys.stdout.write(generated)\n",
    "        \n",
    "        \n",
    "        for i in range(400):\n",
    "            x_pred = np.zeros((1, maxlen, len(chars)))\n",
    "            for t, char in enumerate(sentence):\n",
    "                x_pred[0, t, char_indices[char]] = 1\n",
    "                \n",
    "                \n",
    "                \n",
    "            preds = model.predict(x_pred, verbose = 0)[0]\n",
    "            next_index = sample(preds, diversity)\n",
    "            next_char = indices_char[next_index]\n",
    "            \n",
    "            generated += next_char\n",
    "            sentence = sentence[1:] + next_char\n",
    "            sys.stdout.write(next_char)\n",
    "            sys.stdout.flush()\n",
    "            \n",
    "        print()\n",
    "        \n",
    "        \n",
    "        "
   ]
  },
  {
   "cell_type": "code",
   "execution_count": 10,
   "metadata": {},
   "outputs": [],
   "source": [
    "import tensorflow as tf\n",
    "print_callback = tf.keras.callbacks.LambdaCallback(on_epoch_end = on_epoch_end) "
   ]
  },
  {
   "cell_type": "markdown",
   "metadata": {},
   "source": [
    "We will also define two other callback functions. The first is called ModelCheckpoint. It wil save our model each \n",
    "epoch the loss decrease"
   ]
  },
  {
   "cell_type": "code",
   "execution_count": 11,
   "metadata": {},
   "outputs": [],
   "source": [
    "from keras.callbacks import ModelCheckpoint\n",
    "\n",
    "filepath = 'weights.hdf5'\n",
    "checkpoint = ModelCheckpoint(filepath, monitor = 'loss', verbose = 1, save_best_only = True, mode = 'min')"
   ]
  },
  {
   "cell_type": "markdown",
   "metadata": {},
   "source": [
    "The other callback will reduce the learning rate each time our learning plateaus"
   ]
  },
  {
   "cell_type": "code",
   "execution_count": 12,
   "metadata": {},
   "outputs": [],
   "source": [
    "from keras.callbacks import ReduceLROnPlateau\n",
    "reduce_lr = ReduceLROnPlateau(monitor = 'loss', factor = 0.2, patience = 1, min_lr = 0.001)\n",
    "\n",
    "callbacks = [print_callback, checkpoint, reduce_lr]"
   ]
  },
  {
   "cell_type": "markdown",
   "metadata": {},
   "source": [
    "Training a model and generating new text "
   ]
  },
  {
   "cell_type": "code",
   "execution_count": 13,
   "metadata": {},
   "outputs": [
    {
     "name": "stdout",
     "output_type": "stream",
     "text": [
      "Epoch 1/5\n",
      "144661/144661 [==============================] - 304s 2ms/step - loss: 1.9111\n",
      "\n",
      "----Generating text after Epoch:  0\n",
      "----diversity: 0.2\n",
      "-----Generating with seed: \" alone, but there is that master jacob, who watch\"\n",
      " alone, but there is that master jacob, who watchell the prison of his hand of the prison of the came of the prison of his are the same the paster of the paster of the parst of the prison and the parited the  and  and\n",
      "the prison of the prison of the prison of the prison of the prison of the prison of the same the prison of the came the parter of the carder of the could not the same the was here and the parst of his hand the  and  and  the  man  \n",
      "----diversity: 0.5\n",
      "-----Generating with seed: \" alone, but there is that master jacob, who watch\"\n",
      " alone, but there is that master jacob, who watched  the  decate\n",
      "mortean, whe than the hands of and and my the pared for young the in an  a  on  her\n",
      "withound herest the  could  and  and  the\n",
      "ball the land him, could not well where here were in a linds on not the lang of the prason of the camusare the parle on has not which a  de  only  in  the  pearle  be on  the\n",
      "camman a matter, which canting on the rand and could at the came of the sereat of t\n",
      "----diversity: 1.0\n",
      "-----Generating with seed: \" alone, but there is that master jacob, who watch\"\n",
      " alone, but there is that master jacob, who watched of all themen if eguratonion cornelfus.\n",
      " whil  goods  mimso\n",
      "by callous tunte iteroutistaliorlys, undense at  live  's  lads  sohn  on? \n",
      "hands\n",
      "thin, paight the ment to van but her onter; i have with most the neaty ammenty very bulb encome the weall, the johf threatede rother fell bulbs cornelius amage,\" gurd.\"\n",
      "     \"he reest you nerneco,  resholl\n",
      "cary not bull, sestrailervede the  lantoo\n",
      "thouch \n",
      "----diversity: 1.2\n",
      "-----Generating with seed: \" alone, but there is that master jacob, who watch\"\n",
      " alone, but there is that master jacob, who watchity.\n",
      "     \"i mo?gnyat,  pontucing  af  my\n",
      " thag  colmonr\n",
      "leld me augeldre de gu,bry dpaithour it. he midlonwine uneva-wer.joll werre.\n",
      "     ons  le gast hall  to   me\n",
      "cagnebort hardhes he siin hir it,\" renhund kits reputnered,\" stepaindle of ; ancout;  do  has  welm,  in  not\n",
      "fallowill  mlack  onl  without\n",
      "who wall; who may was ulsfeest;sack, !\" seere\n",
      "rosa-wisten allols well ould theee of it cemess\n",
      "\n",
      "Epoch 00001: loss improved from inf to 1.91106, saving model to weights.hdf5\n",
      "Epoch 2/5\n",
      "144661/144661 [==============================] - 306s 2ms/step - loss: 1.5325\n",
      "\n",
      "----Generating text after Epoch:  1\n",
      "----diversity: 0.2\n",
      "-----Generating with seed: \"er with which he had been  threatened,\n",
      "and he bro\"\n",
      "er with which he had been  threatened,\n",
      "and he browe to him, and the have strange of a lover of the have to the bear  her  have  have  be  the  grower\n",
      "to the should be all to the beer  see  her  heart  to  the  seer  an  the  love  he  have                                                                                                                                                                                                                  \n",
      "----diversity: 0.5\n",
      "-----Generating with seed: \"er with which he had been  threatened,\n",
      "and he bro\"\n",
      "er with which he had been  threatened,\n",
      "and he browe was to him, the flowers the  giver\n",
      "prose of her have counted to me  enger  falled  to  the  searled  of  the  of  the  was  all\n",
      "thow he heard the hands  on  the  have  of       horted  to  father  the  comman  have\n",
      "cornelius like in the the flower.\n",
      "     \"the roduh the marre the cornelius, while have cornelius have were like in the first an to so  comman  by  his  said  an  least  an   allown  a\n",
      "----diversity: 1.0\n",
      "-----Generating with seed: \"er with which he had been  threatened,\n",
      "and he bro\"\n",
      "er with which he had been  threatened,\n",
      "and he brow her, as the dipearl howing that he ill he were how it to vereeing diseiverd to a leave.\"\n",
      "     \"i well, door you alen? the to a rioting.\n",
      "     \"latkent, \"then say, drowe toourse to kile for the selvebour insounts on the labker procouse of had haughang  nor  now,\n",
      "and he weren muct tory torumesten hand, see which van baerle, asker have fayenir read in his  may  to  for  cornelius.  have  in  the  lo\n",
      "----diversity: 1.2\n",
      "-----Generating with seed: \"er with which he had been  threatened,\n",
      "and he bro\"\n",
      "er with which he had been  threatened,\n",
      "and he brower master ingoly fordod the buld,\n",
      "ut bable laic affiy.\"\n",
      "     cornelius prosome on haak ble, iar goudd no give, on covering\n",
      "to my feorable fullstond,  am   so  he  hernesting\n",
      "balk of himmince hnow, be youbiped the where shown, conweined brothemin fathli.g your hear, as on alokism, wial  read  of  my  in his encuss no wien time his,.\n",
      "     there exclude of his gurd loso.\n",
      "     the reting. i  have  wi\n",
      "\n",
      "Epoch 00002: loss improved from 1.91106 to 1.53249, saving model to weights.hdf5\n",
      "Epoch 3/5\n",
      "144661/144661 [==============================] - 309s 2ms/step - loss: 1.4225\n",
      "\n",
      "----Generating text after Epoch:  2\n",
      "----diversity: 0.2\n",
      "-----Generating with seed: \"and he will recover.\"\n",
      "     but, instead of acting\"\n",
      "and he will recover.\"\n",
      "     but, instead of acting to the garden to be will to the  arms  of  the  though\n",
      "the prisoner of the best see  to  the  said,  and  the  thought  to  the  garden  and\n",
      "the our happyones of the tulip of the servant of the  tulip  of  the  allow  to\n",
      "the belishe of the  arms  of  the  dight  of  the\n",
      "prisoner of the servant of the belistenes and the man beding of the servant of the grating the tulip of the tulip, and the great\n",
      "----diversity: 0.5\n",
      "-----Generating with seed: \"and he will recover.\"\n",
      "     but, instead of acting\"\n",
      "and he will recover.\"\n",
      "     but, instead of actinges of the whote strucked  of  the\n",
      "procourrour of his dear the orange of the  ballowed  himself,  and  at  the  has\n",
      "come of the moment the againe of the arm, and the hand of the remould\n",
      "come to get her hour to me and this will  said,  and  they  this  moment  and  see  the  seet  and  whose  hands,  and  that  the  gaided  and\n",
      "ment to the see had to know his book of the  bolanced  of\n",
      "the hand of th\n",
      "----diversity: 1.0\n",
      "-----Generating with seed: \"and he will recover.\"\n",
      "     but, instead of acting\"\n",
      "and he will recover.\"\n",
      "     but, instead of acting and they consided who up the last to cornelius; an rosa must to jour to kneiting risk and scrpeven they hapfs, would\n",
      "latce, outver gaiding to sweer  purty  no  samant\n",
      "prince, wad and scemen to not be giosing uneschial ute his taking, to ammeation.\n",
      "     nouse  most\n",
      "achoir of closa to une wong boughter agaa tull. in that's gualdy of come morefuce pyorcous with its had resed our would know that upon\n",
      "----diversity: 1.2\n",
      "-----Generating with seed: \"and he will recover.\"\n",
      "     but, instead of acting\"\n",
      "and he will recover.\"\n",
      "     but, instead of acting, my portus only  rosa,  unly\n",
      "remoimen. \n",
      "     live elloud not it is courtude. but was himself it deforoged by it, to ose that-be.\n",
      "     mohaed it neleped. leave occepty his deyiate time, veine,  his\n",
      "brest her warv amarned  to  clore\n",
      "eater that opene giliorations would.\"\n",
      "     berane, three sinn it, was, and nothietep, \n",
      "of lont, under be receivoutaile ver hand.\n",
      "     cornelius fell,  who  creal nell, \n",
      "\n",
      "Epoch 00003: loss improved from 1.53249 to 1.42254, saving model to weights.hdf5\n",
      "Epoch 4/5\n",
      "144661/144661 [==============================] - 304s 2ms/step - loss: 1.3638\n",
      "\n",
      "----Generating text after Epoch:  3\n",
      "----diversity: 0.2\n",
      "-----Generating with seed: \"at which i\n",
      "have presented myself; the other two w\"\n",
      "at which i\n",
      "have presented myself; the other two which is the tulip was the buytenhof the prince, and the prisoner to be  the  deared  to  the  double  the  president,\n",
      "and the prisoner was the buytenhof the buytenhof  the  distinces  of  the  morning\n",
      "to  the  are  to  the  prince,  and  the  prince,\n",
      "and the prince, and the prince, and the buytenhof the prince, and the statter and the prison.\n",
      "     the  and  of  the  and  the  double  the  things\n",
      "o\n",
      "----diversity: 0.5\n",
      "-----Generating with seed: \"at which i\n",
      "have presented myself; the other two w\"\n",
      "at which i\n",
      "have presented myself; the other two was supposed and a condens, and my day had of the laister of the standal and the in his housed in his pronoure.\n",
      "     hatked  to  the  deared  the  tulip  which    had\n",
      "cornelius was a was the statter, and  a  was  as  the  grance  for  the  detter\n",
      "and in the fearly  man  himself  the  house  one  a  greather  to  my  to  heard  the  arm\n",
      "and must be tulip.\"\n",
      "     \"but this be see the stream of this be\n",
      "----diversity: 1.0\n",
      "-----Generating with seed: \"at which i\n",
      "have presented myself; the other two w\"\n",
      "at which i\n",
      "have presented myself; the other two wars in which he loid on the morning-call a with rosa rosa, however into  alods,\n",
      "and provinced of neiloly, which the pale as thiss putted joun pedsel.\n",
      "     regont,  so\n",
      "calls of himself, made at the mam are harms at a, this roar ansarmances ather\n",
      "carhies or the prince, rosa infucculted to this man?\"\n",
      "     \"to\n",
      "de man, thus is only isaacts, it has that sought of cornelius, and this cornipies so, the th\n",
      "----diversity: 1.2\n",
      "-----Generating with seed: \"at which i\n",
      "have presented myself; the other two w\"\n",
      "at which i\n",
      "have presented myself; the other two which eness, captring liusent had a me\n",
      "af\n",
      "ale thousatiloked,\n",
      "rosa, hallforme sugher ands in this bulk which as this nothusi het had at the prewisels e step, appawry, first on noth  paps,  a  \"cong upabant, thce  planihy  on\n",
      "it?\"  he tagal to say alloseb, sorme, he fell plowing itl tried too  \"margact,\n",
      "prowed,\" said verying towed as you daydly, swent limemy gack?\"\n",
      "     \"the romplineve?\"\n",
      "     \"are lo\n",
      "\n",
      "Epoch 00004: loss improved from 1.42254 to 1.36383, saving model to weights.hdf5\n",
      "Epoch 5/5\n",
      "144661/144661 [==============================] - 308s 2ms/step - loss: 1.3249\n",
      "\n",
      "----Generating text after Epoch:  4\n",
      "----diversity: 0.2\n",
      "-----Generating with seed: \"the  sight  of  these  witnesses,  who  could  no\"\n",
      "the  sight  of  these  witnesses,  who  could  not  one  the  sead  of  the  statter,  and  the  bulb  of  the\n",
      "carriage of the hands of the statter, where the could to the states of the states of the statt of the carriage of the carriage was the could not to see the contrate of the two door of the carriage of the cornelius, and the state of the read of the carriage to the bulb, the soul to the bulb, who was state of the tulip of the contrary sta\n",
      "----diversity: 0.5\n",
      "-----Generating with seed: \"the  sight  of  these  witnesses,  who  could  no\"\n",
      "the  sight  of  these  witnesses,  who  could  not  have  nothing  that\n",
      "his  godfach  him  it  had\n",
      "bround to marriage of his  prince  and  the  door  of  the  cornelius\n",
      "was it was  was  not  to  to  the  door,  when\n",
      "the offered to the fell of the read of the reading of the coach of a man which to shall have  bulb  of  the  first\n",
      "with the states which was to the despition of the carriage  for  to  the  town  on  the  sugho  of\n",
      "the fact,  and  and\n",
      "----diversity: 1.0\n",
      "-----Generating with seed: \"the  sight  of  these  witnesses,  who  could  no\"\n",
      "the  sight  of  these  witnesses,  who  could  no  wastor\n",
      "in hearing prisino; and cornelius to both more; you will be morson cornelius, ogaed to on sere when the prowined watchial, and done bown, where  told  boega  twat  back  herself  being\n",
      "wants, and dishenbiunation of the drivil; and to say, then not ebly, swel,-texerved on jay in which edus its tulip.\"\n",
      "     then fend the fortty to sight to near to wry.ked since capery shed stools, a thissot\n",
      "----diversity: 1.2\n",
      "-----Generating with seed: \"the  sight  of  these  witnesses,  who  could  no\"\n",
      "the  sight  of  these  witnesses,  who  could  nob,  will  such  ascout\n",
      "in 'sde sam is.\"\n",
      "     .'\n",
      "     \"whal, the !\"grew you concelabl to seeft deevaid him; to he had suspected. at the every\n",
      "onen night, webllons.\n",
      "     part, to fiver hun-, custioneding in .  one  unne\n",
      "coge as the cri-ersern ob.\n",
      "     sgablen  ufnerged  van  say to bloud, the lighncly, my beine in tho prison; burding statiage; lailed towt he nite hairsed operseing to him, ratortastl\n",
      "\n",
      "Epoch 00005: loss improved from 1.36383 to 1.32489, saving model to weights.hdf5\n"
     ]
    },
    {
     "data": {
      "text/plain": [
       "<keras.callbacks.callbacks.History at 0x7fdca8385a50>"
      ]
     },
     "execution_count": 13,
     "metadata": {},
     "output_type": "execute_result"
    }
   ],
   "source": [
    "model.fit(x,y, batch_size = 128, epochs = 5, callbacks = callbacks)"
   ]
  },
  {
   "cell_type": "markdown",
   "metadata": {},
   "source": [
    "To generate text ourselves we will create a function similar to the on_epoch_end function. "
   ]
  },
  {
   "cell_type": "code",
   "execution_count": 23,
   "metadata": {},
   "outputs": [],
   "source": [
    "def generate_text(length, diversity):\n",
    "    #get random starting text\n",
    "    start_index = random.randint(0, len(text) - maxlen - 1)\n",
    "    generated = ''\n",
    "    sentence = text[start_index: start_index + maxlen]\n",
    "    generated += sentence\n",
    "    for i in range(length):\n",
    "        x_pred = np.zeros((1, maxlen, len(chars)))\n",
    "        for t, char in enumerate(sentence):\n",
    "            x_pred[0, t, char_indices[char]] = 1\n",
    "            \n",
    "            \n",
    "            \n",
    "        preds = model.predict(x_pred, verbose = 0)[0]\n",
    "        next_index = sample(preds, diversity)\n",
    "        next_char = indices_char[next_index]\n",
    "        \n",
    "        generated += next_char\n",
    "        sentence = sentence[1 :] + next_char\n",
    "        \n",
    "        \n",
    "    return generated    "
   ]
  },
  {
   "cell_type": "markdown",
   "metadata": {},
   "source": [
    "Now we can create text by just calling the generate_text function"
   ]
  },
  {
   "cell_type": "code",
   "execution_count": 24,
   "metadata": {},
   "outputs": [
    {
     "name": "stdout",
     "output_type": "stream",
     "text": [
      "ine?\" asked rosa, trembling.\n",
      "     \"yes,-that of my friend, and the contray carriage of the statt of the prince of the tulip was to the could not the statt of the prince of the statt of his brow him to the state of the states of his fate of the prince, and the cornelius was to the states of the statt of the two brother but the two one of the fell to the contriver, when the ward the state of the cornelius was to the statt of the carriage of the shall of his hands of the society of the statt of the  angary  to  the  new  for  the  bulbs  of  the \n"
     ]
    }
   ],
   "source": [
    "print(generate_text(500, 0.2))"
   ]
  },
  {
   "cell_type": "code",
   "execution_count": null,
   "metadata": {},
   "outputs": [],
   "source": []
  }
 ],
 "metadata": {
  "kernelspec": {
   "display_name": "Python 3",
   "language": "python",
   "name": "python3"
  },
  "language_info": {
   "codemirror_mode": {
    "name": "ipython",
    "version": 3
   },
   "file_extension": ".py",
   "mimetype": "text/x-python",
   "name": "python",
   "nbconvert_exporter": "python",
   "pygments_lexer": "ipython3",
   "version": "3.7.6"
  }
 },
 "nbformat": 4,
 "nbformat_minor": 4
}
